# Geographic Market Segmentation Analysis - Indian EV Market
# This notebook performs comprehensive geographic market segmentation using multiple datasets



# Import libraries
import pandas as pd
import numpy as np
import matplotlib.pyplot as plt
import seaborn as sns
import plotly.express as px
import plotly.graph_objects as go
from plotly.subplots import make_subplots
from sklearn.cluster import KMeans
from sklearn.preprocessing import StandardScaler
from sklearn.decomposition import PCA
from sklearn.metrics import silhouette_score
import warnings
warnings.filterwarnings('ignore')

# Set style
plt.style.use('default')
sns.set_palette("husl")

print("✅ All libraries imported successfully!")

# =============================================================================
# 1. DATA LOADING AND PREPROCESSING
# =============================================================================

print("\n" + "="*60)
print("📊 LOADING AND PREPROCESSING DATA")
print("="*60)

# Load Enhanced EV Geographic Dataset
try:
    ev_data = pd.read_csv('Enhanced_Indian_EV_Geographic_Dataset.csv')
    print(f"✅ Enhanced EV Dataset loaded: {ev_data.shape}")
    print("Columns:", list(ev_data.columns))
except:
    print("❌ Failed to load Enhanced_Indian_EV_Geographic_Dataset.csv")
    print("Please upload the file to your Colab environment")

# Load EV Maker Dataset
try:
    ev_makers = pd.read_csv('EV Maker by Place.csv')
    print(f"✅ EV Makers Dataset loaded: {ev_makers.shape}")
    print("Columns:", list(ev_makers.columns))
except:
    print("❌ Failed to load EV Maker by Place.csv")

# Load Vehicle Sales Yearly Data
try:
    vehicle_sales = pd.read_excel('india_vehicle_sales_yearly.xlsx')
    print(f"✅ Vehicle Sales Dataset loaded: {vehicle_sales.shape}")
    print("Columns:", list(vehicle_sales.columns))
    print("Year range:", vehicle_sales['Year'].min(), "to", vehicle_sales['Year'].max())
except:
    print("❌ Failed to load india_vehicle_sales_yearly.xlsx")

# Display basic info about main dataset
print("\n📋 Enhanced EV Dataset Info:")
print(ev_data.info())
print("\n📊 Basic Statistics:")
print(ev_data.describe())

# =============================================================================
# 2. DATA PREPARATION FOR SEGMENTATION
# =============================================================================

print("\n" + "="*60)
print("🔧 DATA PREPARATION FOR SEGMENTATION")
print("="*60)

# Create manufacturer density per state
manufacturer_density = ev_makers.groupby('State').size().reset_index(name='Manufacturer_Count')
print(f"✅ Manufacturer density calculated for {len(manufacturer_density)} states")

# Aggregate vehicle sales data (latest year available)
latest_year = vehicle_sales['Year'].max()
latest_vehicle_sales = vehicle_sales[vehicle_sales['Year'] == latest_year].copy()

# Rename columns to match EV dataset
latest_vehicle_sales = latest_vehicle_sales.rename(columns={
    'Two Wheelers': 'Conv_Two_Wheeler',
    'Three Wheelers': 'Conv_Three_Wheeler',
    'Cars': 'Conv_Cars',
    'Buses': 'Conv_Buses',
    'Trucks': 'Conv_Trucks'
})

print(f"✅ Latest vehicle sales data prepared for year {latest_year}")

# Merge all datasets
print("\n🔗 Merging datasets...")
# Start with main EV dataset
master_data = ev_data.copy()

# Add manufacturer density
master_data = master_data.merge(manufacturer_density, on='State', how='left')
master_data['Manufacturer_Count'] = master_data['Manufacturer_Count'].fillna(0)

# Add conventional vehicle sales
master_data = master_data.merge(latest_vehicle_sales[['State', 'Conv_Two_Wheeler',
                                                     'Conv_Three_Wheeler', 'Conv_Cars',
                                                     'Conv_Buses', 'Conv_Trucks']],
                               on='State', how='left')

# Fill NaN values with 0 for conventional vehicle sales
conv_cols = ['Conv_Two_Wheeler', 'Conv_Three_Wheeler', 'Conv_Cars', 'Conv_Buses', 'Conv_Trucks']
master_data[conv_cols] = master_data[conv_cols].fillna(0)

# Calculate additional features for segmentation
master_data['Total_Conv_Vehicles'] = master_data[conv_cols].sum(axis=1)
master_data['EV_to_Conv_Ratio'] = master_data['Total_EV_Registrations'] / (master_data['Total_Conv_Vehicles'] + 1)
master_data['Manufacturer_Density_Score'] = master_data['Manufacturer_Count'] / master_data['Total_EV_Registrations'] * 1000

print(f"✅ Master dataset created with shape: {master_data.shape}")
print("New columns added:", ['Manufacturer_Count', 'Total_Conv_Vehicles', 'EV_to_Conv_Ratio', 'Manufacturer_Density_Score'])

# =============================================================================
# 3. EXPLORATORY DATA ANALYSIS
# =============================================================================

print("\n" + "="*60)
print("📈 EXPLORATORY DATA ANALYSIS")
print("="*60)

# Regional distribution
plt.figure(figsize=(15, 10))

# Plot 1: EV Registrations by Region
plt.subplot(2, 3, 1)
regional_ev = master_data.groupby('Region')['Total_EV_Registrations'].sum().sort_values(ascending=False)
plt.bar(regional_ev.index, regional_ev.values)
plt.title('Total EV Registrations by Region')
plt.xticks(rotation=45)
plt.ylabel('EV Registrations')

# Plot 2: Charging Stations by Region
plt.subplot(2, 3, 2)
regional_charging = master_data.groupby('Region')['Charging_Stations_Sanctioned'].sum().sort_values(ascending=False)
plt.bar(regional_charging.index, regional_charging.values)
plt.title('Charging Stations by Region')
plt.xticks(rotation=45)
plt.ylabel('Charging Stations')

# Plot 3: Market Share Distribution
plt.subplot(2, 3, 3)
plt.hist(master_data['EV_Market_Share_Pct'], bins=15, alpha=0.7)
plt.title('Distribution of EV Market Share')
plt.xlabel('Market Share (%)')
plt.ylabel('Number of States')

# Plot 4: Infrastructure Readiness
plt.subplot(2, 3, 4)
plt.hist(master_data['Infrastructure_Readiness_Score'], bins=15, alpha=0.7, color='orange')
plt.title('Infrastructure Readiness Distribution')
plt.xlabel('Infrastructure Score')
plt.ylabel('Number of States')

# Plot 5: Manufacturer Distribution
plt.subplot(2, 3, 5)
plt.hist(master_data['Manufacturer_Count'], bins=15, alpha=0.7, color='green')
plt.title('EV Manufacturer Distribution')
plt.xlabel('Number of Manufacturers')
plt.ylabel('Number of States')

# Plot 6: Performance Categories
plt.subplot(2, 3, 6)
perf_counts = master_data['Performance_Category'].value_counts()
plt.pie(perf_counts.values, labels=perf_counts.index, autopct='%1.1f%%')
plt.title('Performance Category Distribution')

plt.tight_layout()
plt.show()

# Correlation analysis
print("\n🔍 Correlation Analysis:")
correlation_cols = ['Total_EV_Registrations', 'EV_Market_Share_Pct', 'Charging_Stations_Sanctioned',
                   'Infrastructure_Readiness_Score', 'Manufacturer_Count', 'EV_to_Conv_Ratio']

correlation_matrix = master_data[correlation_cols].corr()
plt.figure(figsize=(10, 8))
sns.heatmap(correlation_matrix, annot=True, cmap='coolwarm', center=0, square=True)
plt.title('Correlation Matrix - Key Variables for Segmentation')
plt.tight_layout()
plt.show()

# =============================================================================
# 4. FEATURE SELECTION FOR CLUSTERING
# =============================================================================

print("\n" + "="*60)
print("🎯 FEATURE SELECTION FOR CLUSTERING")
print("="*60)

# Select features for geographic segmentation
segmentation_features = [
    'Total_EV_Registrations',
    'EV_Market_Share_Pct',
    'Charging_Stations_Sanctioned',
    'Infrastructure_Readiness_Score',
    'Manufacturer_Count',
    'EV_to_Conv_Ratio',
    'EVs_per_Charging_Station',
    'Two_Wheeler_Percentage',
    'Four_Wheeler_Percentage'
]

# Prepare data for clustering
cluster_data = master_data[segmentation_features].copy()

# Handle any remaining NaN or infinite values
cluster_data = cluster_data.replace([np.inf, -np.inf], np.nan) # Replace inf with NaN first
# Fill NaN with the max finite value in each column
cluster_data = cluster_data.apply(lambda x: x.fillna(x.max()))


print("✅ Selected features for clustering:")
for i, feature in enumerate(segmentation_features, 1):
    print(f"{i:2d}. {feature}")

print(f"\nDataset shape for clustering: {cluster_data.shape}")

# Scale the features
scaler = StandardScaler()
scaled_features = scaler.fit_transform(cluster_data)
scaled_df = pd.DataFrame(scaled_features, columns=segmentation_features, index=cluster_data.index)

print("✅ Features scaled using StandardScaler")

# =============================================================================
# 5. OPTIMAL NUMBER OF CLUSTERS
# =============================================================================

print("\n" + "="*60)
print("🔍 FINDING OPTIMAL NUMBER OF CLUSTERS")
print("="*60)

# Elbow method and silhouette analysis
max_clusters = min(10, len(cluster_data)-1)
inertias = []
silhouette_scores = []
K_range = range(2, max_clusters + 1)

print("Calculating metrics for different cluster numbers...")
for k in K_range:
    kmeans = KMeans(n_clusters=k, random_state=42, n_init=10)
    kmeans.fit(scaled_features)
    inertias.append(kmeans.inertia_)
    silhouette_scores.append(silhouette_score(scaled_features, kmeans.labels_))
    print(f"K={k}: Inertia={kmeans.inertia_:.2f}, Silhouette={silhouette_scores[-1]:.3f}")

# Plot results
fig, (ax1, ax2) = plt.subplots(1, 2, figsize=(15, 5))

# Elbow curve
ax1.plot(K_range, inertias, 'bo-')
ax1.set_xlabel('Number of Clusters (k)')
ax1.set_ylabel('Inertia')
ax1.set_title('Elbow Method for Optimal k')
ax1.grid(True, alpha=0.3)

# Silhouette scores
ax2.plot(K_range, silhouette_scores, 'ro-')
ax2.set_xlabel('Number of Clusters (k)')
ax2.set_ylabel('Silhouette Score')
ax2.set_title('Silhouette Analysis')
ax2.grid(True, alpha=0.3)

plt.tight_layout()
plt.show()

# Find optimal k
optimal_k = K_range[np.argmax(silhouette_scores)]
print(f"\n🎯 Optimal number of clusters: {optimal_k} (based on highest silhouette score: {max(silhouette_scores):.3f})")

# =============================================================================
# 6. PERFORM CLUSTERING
# =============================================================================

print("\n" + "="*60)
print("🎯 PERFORMING K-MEANS CLUSTERING")
print("="*60)

# Perform final clustering
final_kmeans = KMeans(n_clusters=optimal_k, random_state=42, n_init=10)
cluster_labels = final_kmeans.fit_predict(scaled_features)

# Add cluster labels to master data
master_data['Cluster'] = cluster_labels
# Ensure the mapping dictionary has enough entries for the optimal_k
cluster_names_map = {
    0: 'High Potential Markets',
    1: 'Emerging Markets',
    2: 'Mature Markets',
    3: 'Developing Markets',
    4: 'Niche Markets',
    5: 'Infrastructure Focus',
    6: 'Growth Markets',
    7: 'Low Adoption, Low Infra',
    8: 'Manufacturer Hubs',
    9: 'Specific Vehicle Mix'
}
master_data['Cluster_Name'] = master_data['Cluster'].map(cluster_names_map)

print(f"✅ Clustering completed with {optimal_k} clusters")
print("\nCluster distribution:")
cluster_counts = master_data['Cluster_Name'].value_counts()
for cluster, count in cluster_counts.items():
    print(f"  {cluster}: {count} states")

# =============================================================================
# 7. CLUSTER ANALYSIS AND PROFILING
# =============================================================================

print("\n" + "="*60)
print("📊 CLUSTER ANALYSIS AND PROFILING")
print("="*60)

# Create cluster profiles
cluster_profiles = master_data.groupby('Cluster_Name')[segmentation_features].mean()
cluster_profiles = cluster_profiles.round(2)

print("📋 Cluster Profiles (Mean Values):")
print(cluster_profiles.to_string())

# Visualize cluster characteristics
fig, axes = plt.subplots(2, 2, figsize=(16, 12))

# Plot 1: EV Registrations vs Market Share
ax1 = axes[0, 0]
scatter = ax1.scatter(master_data['Total_EV_Registrations'],
                     master_data['EV_Market_Share_Pct'],
                     c=master_data['Cluster'],
                     cmap='viridis',
                     s=60,
                     alpha=0.7)
ax1.set_xlabel('Total EV Registrations')
ax1.set_ylabel('EV Market Share (%)')
ax1.set_title('EV Registrations vs Market Share by Cluster')
plt.colorbar(scatter, ax=ax1)

# Plot 2: Infrastructure vs Manufacturer Count
ax2 = axes[0, 1]
scatter2 = ax2.scatter(master_data['Infrastructure_Readiness_Score'],
                      master_data['Manufacturer_Count'],
                      c=master_data['Cluster'],
                      cmap='viridis',
                      s=60,
                      alpha=0.7)
ax2.set_xlabel('Infrastructure Readiness Score')
ax2.set_ylabel('Number of Manufacturers')
ax2.set_title('Infrastructure vs Manufacturer Presence')
plt.colorbar(scatter2, ax=ax2)

# Plot 3: Charging Infrastructure
ax3 = axes[1, 0]
cluster_charging = master_data.groupby('Cluster_Name')['Charging_Stations_Sanctioned'].mean().sort_values(ascending=True)
bars = ax3.barh(range(len(cluster_charging)), cluster_charging.values)
ax3.set_yticks(range(len(cluster_charging)))
ax3.set_yticklabels(cluster_charging.index)
ax3.set_xlabel('Average Charging Stations')
ax3.set_title('Charging Infrastructure by Cluster')

# Plot 4: Regional Distribution
ax4 = axes[1, 1]
region_cluster = pd.crosstab(master_data['Region'], master_data['Cluster_Name'])
region_cluster.plot(kind='bar', stacked=True, ax=ax4)
ax4.set_xlabel('Region')
ax4.set_ylabel('Number of States')
ax4.set_title('Cluster Distribution by Region')
ax4.legend(bbox_to_anchor=(1.05, 1), loc='upper left')
ax4.tick_params(axis='x', rotation=45)

plt.tight_layout()
plt.show()

# =============================================================================
# 8. DETAILED CLUSTER INSIGHTS
# =============================================================================

print("\n" + "="*60)
print("🔍 DETAILED CLUSTER INSIGHTS")
print("="*60)

for cluster_name in master_data['Cluster_Name'].unique():
    if pd.isna(cluster_name):
        continue

    cluster_states = master_data[master_data['Cluster_Name'] == cluster_name]

    print(f"\n🏷️  {cluster_name.upper()}")
    print("-" * 50)
    print(f"States ({len(cluster_states)}): {', '.join(cluster_states['State'].tolist())}")

    # Key characteristics
    avg_ev_reg = cluster_states['Total_EV_Registrations'].mean()
    avg_market_share = cluster_states['EV_Market_Share_Pct'].mean()
    avg_infrastructure = cluster_states['Infrastructure_Readiness_Score'].mean()
    avg_manufacturers = cluster_states['Manufacturer_Count'].mean()

    print(f"📊 Key Metrics:")
    print(f"   • Average EV Registrations: {avg_ev_reg:,.0f}")
    print(f"   • Average Market Share: {avg_market_share:.2f}%")
    print(f"   • Average Infrastructure Score: {avg_infrastructure:.2f}")
    print(f"   • Average Manufacturers: {avg_manufacturers:.1f}")

    # Top performers in cluster
    top_state = cluster_states.loc[cluster_states['Total_EV_Registrations'].idxmax()]
    print(f"🏆 Top Performer: {top_state['State']} ({top_state['Total_EV_Registrations']:,.0f} EVs)")

# =============================================================================
# 9. STRATEGIC RECOMMENDATIONS
# =============================================================================

print("\n" + "="*60)
print("💡 STRATEGIC RECOMMENDATIONS BY CLUSTER")
print("="*60)

recommendations = {
    'High Potential Markets': [
        "🎯 Focus on aggressive market penetration strategies",
        "🏭 Establish manufacturing hubs and R&D centers",
        "🚀 Launch premium EV models and latest technology",
        "🤝 Partner with local governments for policy support"
    ],
    'Mature Markets': [
        "🔄 Focus on market retention and customer loyalty",
        "⚡ Expand charging infrastructure to support growth",
        "🆕 Introduce diverse product portfolio",
        "📊 Leverage data analytics for targeted marketing"
    ],
    'Emerging Markets': [
        "🌱 Invest in awareness campaigns and education",
        "💰 Offer attractive financing options",
        "🏗️ Gradually build charging infrastructure",
        "🎁 Provide attractive incentives and subsidies"
    ],
    'Developing Markets': [
        "📚 Focus on basic awareness and education",
        "🔌 Start with basic charging infrastructure",
        "💵 Introduce budget-friendly EV options",
        "🏛️ Work with government for supportive policies"
    ],
    'Niche Markets': [
        "🎯 Target specific use cases (fleet, commercial)",
        "🔧 Provide specialized solutions and services",
        "🤝 Partner with local businesses and organizations",
        "📈 Monitor for emerging opportunities"
    ],
    'Infrastructure Focus': [
        "⚡ Prioritize rapid deployment of charging stations",
        "🛠️ Address grid capacity and technical challenges",
        "🤝 Seek partnerships with charging providers",
        "📊 Monitor usage patterns to optimize placement"
    ],
    'Growth Markets': [
        "📈 Capitalize on growing demand with targeted campaigns",
        "🔌 Ensure infrastructure keeps pace with adoption",
        "💼 Develop B2B solutions for fleet electrification",
        "📊 Analyze regional trends for product mix optimization"
    ],
    'Low Adoption, Low Infra': [
        "📚 Focus on foundational awareness and education",
        "💰 Introduce pilot projects and basic incentives",
        "🔌 Deploy minimal, strategic charging points",
        "🏛️ Engage local stakeholders for long-term planning"
    ],
    'Manufacturer Hubs': [
        "🏭 Leverage local manufacturing presence for supply chain advantages",
        "🤝 Foster collaboration between manufacturers and local businesses",
        "🎓 Invest in workforce development for EV industry skills",
        "🔬 Promote R&D and innovation within the region"
    ],
    'Specific Vehicle Mix': [
        "🎯 Tailor product offerings to dominant vehicle types",
        "🔧 Develop specialized charging solutions for specific vehicles",
        "🤝 Partner with businesses in relevant sectors (e.g., logistics for goods vehicles)",
        "📊 Analyze specific vehicle segment trends for future strategy"
    ]
}


for cluster_name in master_data['Cluster_Name'].unique():
    if pd.isna(cluster_name):
        continue

    print(f"\n🎯 {cluster_name.upper()}")
    print("-" * 40)
    if cluster_name in recommendations:
      for rec in recommendations[cluster_name]:
          print(f"  {rec}")
    else:
      print("  No specific recommendations defined for this cluster yet.")


# =============================================================================
# 10. INTERACTIVE VISUALIZATION (PLOTLY)
# =============================================================================

print("\n" + "="*60)
print("🗺️  CREATING INTERACTIVE VISUALIZATIONS")
print("="*60)

# Create interactive scatter plot
fig_scatter = px.scatter(
    master_data,
    x='Total_EV_Registrations',
    y='EV_Market_Share_Pct',
    size='Charging_Stations_Sanctioned',
    color='Cluster_Name',
    hover_name='State',
    hover_data=['Region', 'Infrastructure_Readiness_Score', 'Manufacturer_Count'],
    title='Geographic Market Segmentation - Indian EV Market',
    labels={
        'Total_EV_Registrations': 'Total EV Registrations',
        'EV_Market_Share_Pct': 'EV Market Share (%)',
        'Cluster_Name': 'Market Segment'
    }
)

fig_scatter.update_layout(
    width=900,
    height=600,
    showlegend=True
)

fig_scatter.show()

# Create cluster comparison chart
cluster_comparison = master_data.groupby('Cluster_Name')[
    ['Total_EV_Registrations', 'EV_Market_Share_Pct',
     'Infrastructure_Readiness_Score', 'Manufacturer_Count']
].mean().reset_index()

fig_bar = px.bar(
    cluster_comparison,
    x='Cluster_Name',
    y=['Total_EV_Registrations', 'EV_Market_Share_Pct',
       'Infrastructure_Readiness_Score', 'Manufacturer_Count'],
    title='Average Metrics by Market Segment',
    barmode='group'
)

fig_bar.update_layout(
    width=900,
    height=500,
    xaxis_title='Market Segment',
    yaxis_title='Average Value'
)

fig_bar.show()

# =============================================================================
# 11. EXPORT RESULTS
# =============================================================================

print("\n" + "="*60)
print("💾 EXPORTING RESULTS")
print("="*60)

# Export segmented data
output_file = 'geographic_market_segmentation_results.csv'
export_columns = ['State', 'Region', 'Total_EV_Registrations', 'EV_Market_Share_Pct',
                 'Charging_Stations_Sanctioned', 'Infrastructure_Readiness_Score',
                 'Manufacturer_Count', 'Cluster', 'Cluster_Name']

master_data[export_columns].to_csv(output_file, index=False)
print(f"✅ Results exported to {output_file}")

# Export cluster profiles
cluster_profiles.to_csv('cluster_profiles.csv')
print("✅ Cluster profiles exported to cluster_profiles.csv")

# Summary statistics
print("\n📊 FINAL SUMMARY:")
print(f"   • Total states analyzed: {len(master_data)}")
print(f"   • Number of market segments: {optimal_k}")
print(f"   • Features used for segmentation: {len(segmentation_features)}")
print(f"   • Silhouette score: {max(silhouette_scores):.3f}")

print("\n🎉 Geographic Market Segmentation Analysis Complete!")
print("="*60)
